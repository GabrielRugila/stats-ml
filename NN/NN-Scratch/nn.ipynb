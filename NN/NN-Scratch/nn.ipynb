{
 "cells": [
  {
   "cell_type": "code",
   "execution_count": 8,
   "metadata": {},
   "outputs": [],
   "source": [
    "from data import get_mnist, split_data\n",
    "import numpy as np\n",
    "import matplotlib.pyplot as plt"
   ]
  },
  {
   "attachments": {},
   "cell_type": "markdown",
   "metadata": {},
   "source": [
    "\"\"\"\n",
    "w = weights, b = bias, i = input, h = hidden, o = output, l = label\n",
    "e.g. w_i_h = weights from input layer to hidden layer\n",
    "\"\"\""
   ]
  },
  {
   "cell_type": "code",
   "execution_count": 9,
   "metadata": {},
   "outputs": [],
   "source": [
    "images, labels = get_mnist()\n",
    "w_i_h = np.random.uniform(-0.5, 0.5, (20, 784)) # Weight, Input, Hidden\n",
    "w_h_o = np.random.uniform(-0.5, 0.5, (10, 20)) # Weight, Hidden, Output\n",
    "b_i_h = np.zeros((20, 1)) # Bias, Input, Hidden\n",
    "b_h_o = np.zeros((10, 1)) # Bias, Hidden, Output"
   ]
  },
  {
   "cell_type": "code",
   "execution_count": 10,
   "metadata": {},
   "outputs": [],
   "source": [
    "train_images, train_labels, test_images, test_labels = split_data(images, labels)"
   ]
  },
  {
   "cell_type": "code",
   "execution_count": 15,
   "metadata": {},
   "outputs": [
    {
     "name": "stdout",
     "output_type": "stream",
     "text": [
      "Acc 1: 95.89%\n",
      "Test Acc 1: 96.52%\n",
      "Acc 2: 95.99%\n",
      "Test Acc 2: 96.63%\n",
      "Acc 3: 96.07%\n",
      "Test Acc 3: 96.76%\n",
      "Acc 4: 96.17%\n",
      "Test Acc 4: 96.85%\n",
      "Acc 5: 96.28%\n",
      "Test Acc 5: 96.9%\n"
     ]
    }
   ],
   "source": [
    "learn_rate = 0.01\n",
    "nr_correct = 0\n",
    "epochs = 5\n",
    "for epoch in range(epochs):\n",
    "    for img, l in zip(images, labels):\n",
    "        img.shape += (1,)\n",
    "        l.shape += (1,)\n",
    "        # Forward propagation input -> hidden\n",
    "        h_pre = b_i_h + w_i_h @ img\n",
    "        h = 1 / (1 + np.exp(-h_pre))\n",
    "        # Forward propagation hidden -> output\n",
    "        o_pre = b_h_o + w_h_o @ h\n",
    "        o = 1 / (1 + np.exp(-o_pre))\n",
    "\n",
    "        # Cost / Error calculation\n",
    "        e = 1 / len(o) * np.sum((o - l) ** 2, axis=0)\n",
    "        nr_correct += int(np.argmax(o) == np.argmax(l))\n",
    "\n",
    "        # Backpropagation output -> hidden (cost function derivative)\n",
    "        delta_o = o - l\n",
    "        w_h_o += -learn_rate * delta_o @ np.transpose(h)\n",
    "        b_h_o += -learn_rate * delta_o\n",
    "        # Backpropagation hidden -> input (activation function derivative)\n",
    "        delta_h = np.transpose(w_h_o) @ delta_o * (h * (1 - h))\n",
    "        w_i_h += -learn_rate * delta_h @ np.transpose(img)\n",
    "        b_i_h += -learn_rate * delta_h\n",
    "\n",
    "    # Show accuracy for this epoch\n",
    "    print(f\"Acc {epoch +1}: {round((nr_correct / images.shape[0]) * 100, 2)}%\")\n",
    "    nr_correct = 0\n",
    "    \n",
    "    # Test the network on the test data\n",
    "    nr_correct = 0\n",
    "    for img, l in zip(test_images, test_labels):\n",
    "        img.shape += (1,)\n",
    "        l.shape += (1,)\n",
    "        # Forward propagation input -> hidden\n",
    "        h_pre = b_i_h + w_i_h @ img\n",
    "        h = 1 / (1 + np.exp(-h_pre))\n",
    "        # Forward propagation hidden -> output\n",
    "        o_pre = b_h_o + w_h_o @ h\n",
    "        o = 1 / (1 + np.exp(-o_pre))\n",
    "\n",
    "        nr_correct += int(np.argmax(o) == np.argmax(l))\n",
    "        \n",
    "    print(f\"Test Acc {epoch +1}: {round((nr_correct / test_images.shape[0]) * 100, 2)}%\")\n",
    "    nr_correct = 0"
   ]
  },
  {
   "cell_type": "code",
   "execution_count": 16,
   "metadata": {},
   "outputs": [
    {
     "data": {
      "image/png": "[encoded data removed]",
      "text/plain": [
       "<Figure size 640x480 with 1 Axes>"
      ]
     },
     "metadata": {},
     "output_type": "display_data"
    },
    {
     "ename": "ValueError",
     "evalue": "invalid literal for int() with base 10: ''",
     "output_type": "error",
     "traceback": [
      "\u001b[1;31m---------------------------------------------------------------------------\u001b[0m",
      "\u001b[1;31mValueError\u001b[0m                                Traceback (most recent call last)",
      "\u001b[1;32mc:\\Users\\g4bri\\OneDrive\\Área de Trabalho\\vscode\\stats-ml\\NN\\NN-Scratch\\nn.ipynb Cell 6\u001b[0m in \u001b[0;36m3\n\u001b[0;32m      <a href='vscode-notebook-cell:/c%3A/Users/g4bri/OneDrive/%C3%81rea%20de%20Trabalho/vscode/stats-ml/NN/NN-Scratch/nn.ipynb#W5sZmlsZQ%3D%3D?line=0'>1</a>\u001b[0m \u001b[39m# Show results\u001b[39;00m\n\u001b[0;32m      <a href='vscode-notebook-cell:/c%3A/Users/g4bri/OneDrive/%C3%81rea%20de%20Trabalho/vscode/stats-ml/NN/NN-Scratch/nn.ipynb#W5sZmlsZQ%3D%3D?line=1'>2</a>\u001b[0m \u001b[39mwhile\u001b[39;00m \u001b[39mTrue\u001b[39;00m:\n\u001b[1;32m----> <a href='vscode-notebook-cell:/c%3A/Users/g4bri/OneDrive/%C3%81rea%20de%20Trabalho/vscode/stats-ml/NN/NN-Scratch/nn.ipynb#W5sZmlsZQ%3D%3D?line=2'>3</a>\u001b[0m     index \u001b[39m=\u001b[39m \u001b[39mint\u001b[39;49m(\u001b[39minput\u001b[39;49m(\u001b[39m\"\u001b[39;49m\u001b[39mEnter a number (0 - 48000): \u001b[39;49m\u001b[39m\"\u001b[39;49m))\n\u001b[0;32m      <a href='vscode-notebook-cell:/c%3A/Users/g4bri/OneDrive/%C3%81rea%20de%20Trabalho/vscode/stats-ml/NN/NN-Scratch/nn.ipynb#W5sZmlsZQ%3D%3D?line=3'>4</a>\u001b[0m     img \u001b[39m=\u001b[39m images[index]\n\u001b[0;32m      <a href='vscode-notebook-cell:/c%3A/Users/g4bri/OneDrive/%C3%81rea%20de%20Trabalho/vscode/stats-ml/NN/NN-Scratch/nn.ipynb#W5sZmlsZQ%3D%3D?line=4'>5</a>\u001b[0m     plt\u001b[39m.\u001b[39mimshow(img\u001b[39m.\u001b[39mreshape(\u001b[39m28\u001b[39m, \u001b[39m28\u001b[39m), cmap\u001b[39m=\u001b[39m\u001b[39m\"\u001b[39m\u001b[39mGreys\u001b[39m\u001b[39m\"\u001b[39m)\n",
      "\u001b[1;31mValueError\u001b[0m: invalid literal for int() with base 10: ''"
     ]
    }
   ],
   "source": [
    "# Show results\n",
    "while True:\n",
    "    index = int(input(\"Enter a number (0 - 48000): \"))\n",
    "    img = images[index]\n",
    "    plt.imshow(img.reshape(28, 28), cmap=\"Greys\")\n",
    "\n",
    "    img.shape += (1,)\n",
    "    # Forward propagation input -> hidden\n",
    "    h_pre = b_i_h + w_i_h @ img.reshape(784, 1)\n",
    "    h = 1 / (1 + np.exp(-h_pre))\n",
    "    # Forward propagation hidden -> output\n",
    "    o_pre = b_h_o + w_h_o @ h\n",
    "    o = 1 / (1 + np.exp(-o_pre))\n",
    "\n",
    "    plt.title(f\"{o.argmax()}]\")\n",
    "    plt.show()"
   ]
  }
 ],
 "metadata": {
  "kernelspec": {
   "display_name": "Python 3",
   "language": "python",
   "name": "python3"
  },
  "language_info": {
   "codemirror_mode": {
    "name": "ipython",
    "version": 3
   },
   "file_extension": ".py",
   "mimetype": "text/x-python",
   "name": "python",
   "nbconvert_exporter": "python",
   "pygments_lexer": "ipython3",
   "version": "3.11.2"
  },
  "orig_nbformat": 4
 },
 "nbformat": 4,
 "nbformat_minor": 2
}
