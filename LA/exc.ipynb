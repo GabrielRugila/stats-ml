{
 "cells": [
  {
   "cell_type": "code",
   "execution_count": 1,
   "metadata": {
    "collapsed": true
   },
   "outputs": [],
   "source": [
    "import numpy as np\n",
    "import matplotlib.pyplot as plt\n",
    "from mpl_toolkits.mplot3d import Axes3D"
   ]
  },
  {
   "cell_type": "code",
   "execution_count": 4,
   "outputs": [
    {
     "name": "stdout",
     "output_type": "stream",
     "text": [
      "[[-1.02474148 -0.14595411 -1.84253244 -0.662343    0.91512199 -0.2234668 ]\n",
      " [-0.68911032  1.98888687 -1.71215722  0.86724019 -0.02991899 -2.00126589]\n",
      " [ 0.48674271 -1.88007676  0.41165277 -0.00237017 -1.66889213  0.48160445]\n",
      " [ 0.43846206 -0.7700509  -1.01055497  0.60344318 -1.04872013 -1.06065023]]\n",
      " \n",
      "[[ 0.57657842 -0.10467874  1.27245712  0.22221381  1.01770458 -0.13249923]\n",
      " [ 0.34383436  0.67668519 -1.32134102 -0.51118783  0.34683523  1.90810457]\n",
      " [-1.33629345  0.66999704 -2.6069895   1.74324856  0.73457846 -2.29539481]\n",
      " [-0.58726478 -0.50916954  0.6535324   1.88414513 -1.12113757 -0.43027495]]\n",
      " \n",
      "[-1.73570805  0.49356917 -1.8158048   0.54233835  0.87077421 -4.43811654]\n"
     ]
    }
   ],
   "source": [
    "# Exc 1\n",
    "\n",
    "Mcol = 6\n",
    "Mrow = 4\n",
    "\n",
    "A = np.random.randn(Mrow, Mcol)\n",
    "B = np.random.randn(Mrow, Mcol)\n",
    "\n",
    "print(A)\n",
    "print(' ')\n",
    "print(B)\n",
    "\n",
    "C = np.zeros(Mcol)\n",
    "\n",
    "for i in range(Mcol):\n",
    "    C[i] = np.dot(A[:,i], B[:,i])\n",
    "\n",
    "print(' ')\n",
    "print(C)"
   ],
   "metadata": {
    "collapsed": false
   }
  },
  {
   "cell_type": "code",
   "execution_count": 10,
   "outputs": [
    {
     "name": "stdout",
     "output_type": "stream",
     "text": [
      "-4.581013895439129 -4.581013895439129 0.0\n",
      " \n",
      "26 26\n"
     ]
    }
   ],
   "source": [
    "# Exc 2\n",
    "\n",
    "# Is the dot product commutative?\n",
    "\n",
    "a = np.random.randn(100)\n",
    "b = np.random.randn(100)\n",
    "\n",
    "ab = np.dot(a, b)\n",
    "ba = np.dot(b, a)\n",
    "print(ab, ba, ab - ba)\n",
    "print(' ')\n",
    "\n",
    "v = [2,4]\n",
    "w = [3,5]\n",
    "print(np.dot(v,w), np.dot(w,v))"
   ],
   "metadata": {
    "collapsed": false
   }
  },
  {
   "cell_type": "code",
   "execution_count": null,
   "outputs": [],
   "source": [],
   "metadata": {
    "collapsed": false
   }
  }
 ],
 "metadata": {
  "kernelspec": {
   "display_name": "Python 3",
   "language": "python",
   "name": "python3"
  },
  "language_info": {
   "codemirror_mode": {
    "name": "ipython",
    "version": 2
   },
   "file_extension": ".py",
   "mimetype": "text/x-python",
   "name": "python",
   "nbconvert_exporter": "python",
   "pygments_lexer": "ipython2",
   "version": "2.7.6"
  }
 },
 "nbformat": 4,
 "nbformat_minor": 0
}
