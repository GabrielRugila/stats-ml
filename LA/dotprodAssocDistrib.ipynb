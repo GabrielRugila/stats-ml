{
 "cells": [
  {
   "cell_type": "code",
   "execution_count": 1,
   "metadata": {
    "collapsed": true
   },
   "outputs": [],
   "source": [
    "import numpy as np\n",
    "import matplotlib.pyplot as plt\n",
    "from mpl_toolkits.mplot3d import Axes3D"
   ]
  },
  {
   "cell_type": "code",
   "execution_count": 10,
   "outputs": [
    {
     "name": "stdout",
     "output_type": "stream",
     "text": [
      "[-13.406178394353576, -13.406178394353576]\n"
     ]
    }
   ],
   "source": [
    "# Distributive Property\n",
    "\n",
    "# rand V\n",
    "n = 10\n",
    "a = np.random.randn(n)\n",
    "b = np.random.randn(n)\n",
    "c = np.random.randn(n)\n",
    "\n",
    "res1 = np.dot( a, (b+c))\n",
    "res2 = np.dot( a, b ) + np.dot( a, c )\n",
    "\n",
    "# compare\n",
    "print([ res1, res2])\n"
   ],
   "metadata": {
    "collapsed": false
   }
  },
  {
   "cell_type": "code",
   "execution_count": 9,
   "outputs": [
    {
     "name": "stdout",
     "output_type": "stream",
     "text": [
      "[-0.72554349 -0.09270033  0.50355158  0.03482749  1.64222373]\n",
      "[-0.32784541  2.0109098  -1.55477811 -0.55539252  0.97197095]\n"
     ]
    }
   ],
   "source": [
    "# Associative property\n",
    "\n",
    "n = 5\n",
    "a = np.random.randn(n)\n",
    "b = np.random.randn(n)\n",
    "c = np.random.randn(n)\n",
    "\n",
    "res1 = np.dot(a, np.dot(b, c))\n",
    "res2 = np.dot(np.dot(a, b) , c)\n",
    "\n",
    "print(res1)\n",
    "print(res2)"
   ],
   "metadata": {
    "collapsed": false
   }
  },
  {
   "cell_type": "code",
   "execution_count": null,
   "outputs": [],
   "source": [],
   "metadata": {
    "collapsed": false
   }
  }
 ],
 "metadata": {
  "kernelspec": {
   "display_name": "Python 3",
   "language": "python",
   "name": "python3"
  },
  "language_info": {
   "codemirror_mode": {
    "name": "ipython",
    "version": 2
   },
   "file_extension": ".py",
   "mimetype": "text/x-python",
   "name": "python",
   "nbconvert_exporter": "python",
   "pygments_lexer": "ipython2",
   "version": "2.7.6"
  }
 },
 "nbformat": 4,
 "nbformat_minor": 0
}
