{
 "cells": [
  {
   "cell_type": "code",
   "execution_count": 1,
   "metadata": {
    "collapsed": true
   },
   "outputs": [],
   "source": [
    "import numpy as np\n",
    "import matplotlib.pyplot as plt\n",
    "from mpl_toolkits.mplot3d import Axes3D"
   ]
  },
  {
   "cell_type": "code",
   "execution_count": 3,
   "outputs": [
    {
     "name": "stdout",
     "output_type": "stream",
     "text": [
      "32 32 32 32\n"
     ]
    }
   ],
   "source": [
    "## computation of dot product\n",
    "\n",
    "v1 = np.array([1, 2, 3, 4, 5])\n",
    "v2 = np.array([0, -4, -3, 6, 5])\n",
    "\n",
    "# method 1\n",
    "dp1 = sum( np.multiply(v1, v2) )\n",
    "\n",
    "# method 2 // best\n",
    "dp2 = np.dot( v1, v2 )\n",
    "\n",
    "# method 3\n",
    "dp3 = np.matmul( v1, v2 )\n",
    "\n",
    "# method 4 // bad\n",
    "dp4 = 0\n",
    "for i in range(0, len(v1)):\n",
    "    dp4 += (v1[i]*v2[i])\n",
    "\n",
    "print(dp1, dp2, dp3, dp4)"
   ],
   "metadata": {
    "collapsed": false
   }
  },
  {
   "cell_type": "code",
   "execution_count": null,
   "outputs": [],
   "source": [],
   "metadata": {
    "collapsed": false
   }
  }
 ],
 "metadata": {
  "kernelspec": {
   "display_name": "Python 3",
   "language": "python",
   "name": "python3"
  },
  "language_info": {
   "codemirror_mode": {
    "name": "ipython",
    "version": 2
   },
   "file_extension": ".py",
   "mimetype": "text/x-python",
   "name": "python",
   "nbconvert_exporter": "python",
   "pygments_lexer": "ipython2",
   "version": "2.7.6"
  }
 },
 "nbformat": 4,
 "nbformat_minor": 0
}
