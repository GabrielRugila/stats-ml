{
 "cells": [
  {
   "cell_type": "code",
   "execution_count": 1,
   "metadata": {},
   "outputs": [],
   "source": [
    "import plotly.express as px\n",
    "import numpy as np"
   ]
  },
  {
   "cell_type": "code",
   "execution_count": null,
   "metadata": {},
   "outputs": [],
   "source": [
    "import plotly.express as px\n",
    "import numpy as np\n",
    "\n",
    "\n",
    "class SVM:\n",
    "    def __init__(self, visualization=True):\n",
    "        self.visualization = visualization\n",
    "        self.colors = {1: 'red', -1: 'blue'}\n",
    "        if self.visualization:\n",
    "            self.fig = px.scatter()\n",
    "            self.fig.update_layout(xaxis_range=[0, 4], yaxis_range=[1.5, 5])\n",
    "\n",
    "    def fit(self, data):\n",
    "        self.data = data\n",
    "        self.max_feature_value = np.max(np.array([feature for featureset in self.data.values() for feature in featureset]))\n",
    "        self.min_feature_value = np.min(np.array([feature for featureset in self.data.values() for feature in featureset]))\n",
    "        step_sizes = [self.max_feature_value * 0.1, self.max_feature_value * 0.01, self.max_feature_value * 0.001]\n",
    "        b_range_multiple = 5\n",
    "        b_multiple = 5\n",
    "        latest_optimum = self.max_feature_value * 10\n",
    "\n",
    "        for step in step_sizes:\n",
    "            w = np.array([latest_optimum, latest_optimum])\n",
    "            optimized = False\n",
    "\n",
    "            while not optimized:\n",
    "                for b in np.arange(-self.max_feature_value * b_range_multiple, self.max_feature_value * b_range_multiple, step * b_multiple):\n",
    "                    for transformation in [[1, 1], [-1, 1], [-1, -1], [1, -1]]:\n",
    "                        w_t = w * transformation\n",
    "                        found_option = True\n",
    "                        for i in self.data:\n",
    "                            for xi in self.data[i]:\n",
    "                                yi = i\n",
    "                                if not yi * (np.dot(w_t, xi) + b) >= 1:\n",
    "                                    found_option = False\n",
    "                                    break\n",
    "                            if not found_option:\n",
    "                                break\n",
    "\n",
    "                        if found_option:\n",
    "                            opt_dict = {np.linalg.norm(w_t): [w_t, b]}\n",
    "\n",
    "                if w[0] < 0:\n",
    "                    optimized = True\n",
    "                    print('Optimized a step')\n",
    "                else:\n",
    "                    w = w - step\n",
    "\n",
    "            norms = sorted([n for n in opt_dict])\n",
    "            opt_choice = opt_dict[norms[0]]\n",
    "            self.w = opt_choice[0]\n",
    "            self.b = opt_choice[1]\n",
    "            latest_optimum = opt_choice[0][0] + step * 2\n",
    "\n",
    "    def predict(self, features):\n",
    "        classification = np.sign(np.dot(np.array(features), self.w) + self.b)\n",
    "        if classification != 0 and self.visualization:\n",
    "            self.fig.add_scatter(x=[features[0]], y=[features[1]], mode='markers', marker_size=10, marker_color=self.colors[classification])\n",
    "        return classification\n",
    "\n",
    "    def visualize(self):\n",
    "        def hyperplane(x, w, b, v):\n",
    "            return (-w[0] * x - b + v) / w[1]\n",
    "\n",
    "        if self.visualization:\n",
    "            self.fig.update_layout(showlegend=False)\n",
    "\n",
    "            x_range = np.linspace(self.min_feature_value * 0.9, self.max_feature_value * 1.1, 2)\n",
    "            for i in self.colors:\n",
    "                sign = i\n",
    "                color = self.colors[i]\n",
    "                for xi in self.data[i]:\n",
    "                    self.fig.add_scatter(x=[xi[0]], y=[xi[1]], mode='markers', marker=dict(color=color, size=10))\n",
    "\n",
    "            for i in self.data:\n",
    "                for xi in self.data[i]:\n",
    "                    y_prediction = hyperplane(xi[0], self.w, self.b, 0)\n",
    "                    if y_prediction > self.min_feature_value and y_prediction < self.max_feature_value:\n",
    "                        self.fig.add_shape(type='line',\n",
    "                                        x0=x_range[0], y0=hyperplane(x_range[0], self.w, self.b, 0),\n",
    "                                        x1=x_range[1], y1=hyperplane(x_range[1], self.w, self.b, 0),\n",
    "                                        line=dict(color=self.colors[i], width=2))\n",
    "\n",
    "            self.fig.show()\n",
    "\n"
   ]
  },
  {
   "cell_type": "code",
   "execution_count": 2,
   "metadata": {},
   "outputs": [],
   "source": [
    "data_dict = {-1:np.array([[1,7],[2,8],[3,8]]),1:np.array([[5,1],[6,-1],[7,3]])}"
   ]
  },
  {
   "cell_type": "code",
   "execution_count": null,
   "metadata": {},
   "outputs": [],
   "source": []
  }
 ],
 "metadata": {
  "kernelspec": {
   "display_name": "Python 3",
   "language": "python",
   "name": "python3"
  },
  "language_info": {
   "codemirror_mode": {
    "name": "ipython",
    "version": 3
   },
   "file_extension": ".py",
   "mimetype": "text/x-python",
   "name": "python",
   "nbconvert_exporter": "python",
   "pygments_lexer": "ipython3",
   "version": "3.11.2"
  },
  "orig_nbformat": 4,
  "vscode": {
   "interpreter": {
    "hash": "c261aea317cc0286b3b3261fbba9abdec21eaa57589985bb7a274bf54d6cc0a7"
   }
  }
 },
 "nbformat": 4,
 "nbformat_minor": 2
}
